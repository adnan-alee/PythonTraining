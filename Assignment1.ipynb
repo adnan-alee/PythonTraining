{
 "cells": [
  {
   "cell_type": "code",
   "execution_count": 5,
   "metadata": {},
   "outputs": [
    {
     "name": "stdout",
     "output_type": "stream",
     "text": [
      "Enter Radius of Circle:2\n",
      "Area of Circle is: 25.136\n"
     ]
    }
   ],
   "source": [
    "radius = int(input(\"Enter Radius of Circle:\"))\n",
    "area = 2 * 3.142 * (radius ** 2)\n",
    "print(\"Area of Circle is:\", area)"
   ]
  },
  {
   "cell_type": "code",
   "execution_count": 6,
   "metadata": {},
   "outputs": [
    {
     "name": "stdout",
     "output_type": "stream",
     "text": [
      "Enter Number6\n",
      "Enter another Number2\n",
      "Addition is: 8\n"
     ]
    }
   ],
   "source": [
    "num1 = int(input(\"Enter Number\"))\n",
    "num2 = int(input(\"Enter another Number\"))\n",
    "\n",
    "add = num1 + num2\n",
    "print(\"Addition is:\", add)"
   ]
  },
  {
   "cell_type": "code",
   "execution_count": null,
   "metadata": {},
   "outputs": [],
   "source": []
  },
  {
   "cell_type": "code",
   "execution_count": null,
   "metadata": {},
   "outputs": [],
   "source": []
  },
  {
   "cell_type": "code",
   "execution_count": null,
   "metadata": {},
   "outputs": [],
   "source": []
  }
 ],
 "metadata": {
  "kernelspec": {
   "display_name": "Python 3",
   "language": "python",
   "name": "python3"
  },
  "language_info": {
   "codemirror_mode": {
    "name": "ipython",
    "version": 3
   },
   "file_extension": ".py",
   "mimetype": "text/x-python",
   "name": "python",
   "nbconvert_exporter": "python",
   "pygments_lexer": "ipython3",
   "version": "3.7.4"
  }
 },
 "nbformat": 4,
 "nbformat_minor": 2
}
